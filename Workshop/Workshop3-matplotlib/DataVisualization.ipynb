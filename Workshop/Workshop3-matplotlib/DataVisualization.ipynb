{
  "nbformat": 4,
  "nbformat_minor": 0,
  "metadata": {
    "kernelspec": {
      "display_name": "Python 3",
      "language": "python",
      "name": "python3"
    },
    "language_info": {
      "codemirror_mode": {
        "name": "ipython",
        "version": 3
      },
      "file_extension": ".py",
      "mimetype": "text/x-python",
      "name": "python",
      "nbconvert_exporter": "python",
      "pygments_lexer": "ipython3",
      "version": "3.5.3"
    },
    "colab": {
      "provenance": []
    }
  },
  "cells": [
    {
      "cell_type": "code",
      "metadata": {
        "id": "2bbT2mA1uU85",
        "colab": {
          "base_uri": "https://localhost:8080/"
        },
        "outputId": "aaaeebf0-efd3-46e3-98fb-7ddea01f7f53"
      },
      "source": [
        "!wget https://raw.githubusercontent.com/Mixelon-tera/Workshop3_DataViz/master/exams_100.csv"
      ],
      "execution_count": null,
      "outputs": [
        {
          "output_type": "stream",
          "name": "stdout",
          "text": [
            "--2021-09-19 17:14:33--  https://raw.githubusercontent.com/Mixelon-tera/Workshop3_DataViz/master/exams_100.csv\n",
            "Resolving raw.githubusercontent.com (raw.githubusercontent.com)... 185.199.108.133, 185.199.109.133, 185.199.110.133, ...\n",
            "Connecting to raw.githubusercontent.com (raw.githubusercontent.com)|185.199.108.133|:443... connected.\n",
            "HTTP request sent, awaiting response... 200 OK\n",
            "Length: 7253 (7.1K) [text/plain]\n",
            "Saving to: ‘exams_100.csv.1’\n",
            "\n",
            "\rexams_100.csv.1       0%[                    ]       0  --.-KB/s               \rexams_100.csv.1     100%[===================>]   7.08K  --.-KB/s    in 0s      \n",
            "\n",
            "2021-09-19 17:14:34 (66.8 MB/s) - ‘exams_100.csv.1’ saved [7253/7253]\n",
            "\n"
          ]
        }
      ]
    },
    {
      "cell_type": "code",
      "metadata": {
        "id": "TUusmzVf17J3",
        "colab": {
          "base_uri": "https://localhost:8080/"
        },
        "outputId": "6b726073-f5a2-452a-c3a3-b7a1e9621027"
      },
      "source": [
        "import platform\n",
        "#ตรวจสอบเวอร์ชันไพธอน\n",
        "print(\"Python version: {}\".format(platform.sys.version))"
      ],
      "execution_count": null,
      "outputs": [
        {
          "output_type": "stream",
          "name": "stdout",
          "text": [
            "Python version: 3.7.12 (default, Sep 10 2021, 00:21:48) \n",
            "[GCC 7.5.0]\n"
          ]
        }
      ]
    },
    {
      "cell_type": "code",
      "metadata": {
        "id": "Kg0YcZL017J-",
        "colab": {
          "base_uri": "https://localhost:8080/"
        },
        "outputId": "18de1fd0-4363-47cf-9ac6-c6f9d707f294"
      },
      "source": [
        "import os\n",
        "''' เราจะเช็ค path ของไฟล์ excel ชนิด (.csv) ก่อนว่ามีไฟล์ชนิดนี้อยู่ใน folder เดียวกันกับไฟล์ jupyter ไหม\n",
        "ด้วยการเรียกใช้ module ของไพธอน คือ os.path.exists() \n",
        "'''\n",
        "file_name = 'exams_100.csv'\n",
        "if os.path.exists(file_name):\n",
        "    print('Found that file')\n",
        "else:\n",
        "    print('Please check csv file.')\n"
      ],
      "execution_count": null,
      "outputs": [
        {
          "output_type": "stream",
          "name": "stdout",
          "text": [
            "Found that file\n"
          ]
        }
      ]
    },
    {
      "cell_type": "code",
      "metadata": {
        "id": "5pohyEgL17KA"
      },
      "source": [
        "import pandas as pd\n",
        "import matplotlib.pyplot as plt"
      ],
      "execution_count": null,
      "outputs": []
    },
    {
      "cell_type": "code",
      "metadata": {
        "scrolled": false,
        "id": "UNpCY7FY17KD",
        "colab": {
          "base_uri": "https://localhost:8080/"
        },
        "outputId": "3f6c3f5c-f43f-4fe7-b869-b92bff5c15fc"
      },
      "source": [
        "#อ่านไฟล์ csv แล้วเอาค่ามาเก็บไว้ในตัวแปรหนึ่งที่ชื่อว่า 'csv_data'\n",
        "csv_data = pd.read_csv(file_name)\n",
        "print(csv_data.head())"
      ],
      "execution_count": null,
      "outputs": [
        {
          "output_type": "stream",
          "name": "stdout",
          "text": [
            "   gender race/ethnicity  ... reading score writing score\n",
            "0  female        group C  ...            65            69\n",
            "1  female        group D  ...            75            78\n",
            "2  female        group E  ...            74            75\n",
            "3    male        group C  ...            76            67\n",
            "4    male        group C  ...            49            49\n",
            "\n",
            "[5 rows x 8 columns]\n"
          ]
        }
      ]
    },
    {
      "cell_type": "markdown",
      "metadata": {
        "id": "ByvLSRHx17KH"
      },
      "source": [
        "# TO DO 1 :  แสดงผลข้อมูลเป็นจำนวน 50 แถว"
      ]
    },
    {
      "cell_type": "markdown",
      "metadata": {
        "id": "m6Akantk17KH"
      },
      "source": [
        "<img src=\"https://github.com/thcktw/python-com-resource/raw/master/lab4datavis/result_of_todo1.png\">"
      ]
    },
    {
      "cell_type": "code",
      "metadata": {
        "id": "GLZFls4W17KI"
      },
      "source": [
        "#Write code below please.\n"
      ],
      "execution_count": null,
      "outputs": []
    },
    {
      "cell_type": "markdown",
      "metadata": {
        "id": "PbetAquw17KL"
      },
      "source": [
        "# TO DO 2 : นับจำนวนนักเรียนเพศชาย-หญิงจากไฟล์ csv แล้วแสดงผลทางหน้าจอ"
      ]
    },
    {
      "cell_type": "markdown",
      "metadata": {
        "id": "FzxnYBT717KM"
      },
      "source": [
        "<img src=\"https://github.com/thcktw/python-com-resource/raw/master/lab4datavis/result_of_todo2.png\">"
      ]
    },
    {
      "cell_type": "code",
      "metadata": {
        "id": "8fthMTLv17KM"
      },
      "source": [
        "#Write code below please.\n",
        "gender = csv_data['gender']\n",
        "\n"
      ],
      "execution_count": null,
      "outputs": []
    },
    {
      "cell_type": "markdown",
      "metadata": {
        "id": "13y9Ir0D17KP"
      },
      "source": [
        "# TO DO 3 : สร้างกราฟแท่งเปรียบเทียบจำนวนนักเรียนเพศชาย-หญิง\n",
        "\n",
        "<p> ภาพตัวอย่าง</p>\n",
        "<img src=\"https://github.com/thcktw/python-com-resource/raw/master/lab4datavis/result_of_todo3.png\">"
      ]
    },
    {
      "cell_type": "code",
      "metadata": {
        "id": "XgG5pcBw17KP"
      },
      "source": [
        "#Write code below please.\n"
      ],
      "execution_count": null,
      "outputs": []
    },
    {
      "cell_type": "markdown",
      "metadata": {
        "id": "LRrcux0X17KR"
      },
      "source": [
        "# TO DO 4 : เรียงลำดับคะแนนวิชาคณิตศาสตร์และวิชาการอ่านของนักเรียนจากน้อยไปหามาก และแสดงผลคะแนนทั้ง 2 วิชาในรูปแบบกราฟเส้น โดยจำนวนนักเรียนที่ต้องการแสดงบนกราฟเส้นคือ 10 คนแรกที่มีคะแนนน้อยที่สุด\n",
        "<p> ภาพตัวอย่าง</p>\n",
        "<img src=\"https://github.com/thcktw/python-com-resource/raw/master/lab4datavis/result_of_todo4.png\">\n",
        "\n",
        "## ตกแต่งสีสันของกราฟได้ตามใจชอบ :)"
      ]
    },
    {
      "cell_type": "code",
      "metadata": {
        "id": "4IaZf_gD17KS"
      },
      "source": [
        "# Create index of 100 students and save it in a list \n",
        "index_student = [idx+1 for idx in range(len(gender))]\n",
        "#print(index_student) #นักเรียน 100 คน\n",
        "\n",
        "#ดึงค่าคะแนนของนักเรียนทั้ง 3 วิชามาจากDataFrameของPandas\n",
        "math_score = csv_data['math score']\n",
        "reading_score = csv_data['reading score']\n",
        "writing_score = csv_data['writing score']"
      ],
      "execution_count": null,
      "outputs": []
    },
    {
      "cell_type": "code",
      "metadata": {
        "id": "JS_kMN6s17KV"
      },
      "source": [
        "#เรียงค่าคะแนนวิชาคณิตศาตร์ และวิชาการอ่านจากน้อยไปหามาก\n",
        "#วิชาคณิตศาสตร์ \n",
        "#Write code below please.\n",
        "\n",
        "#วิชาการอ่าน\n",
        "#Write code below please.\n"
      ],
      "execution_count": null,
      "outputs": []
    },
    {
      "cell_type": "code",
      "metadata": {
        "id": "Jp10IWwB17KZ",
        "colab": {
          "base_uri": "https://localhost:8080/",
          "height": 421
        },
        "outputId": "5190f17e-5793-4868-a189-9354fe86ba7e"
      },
      "source": [
        "plt.figure(figsize=(10,6))\n",
        "# Write code below please. #\n",
        "\n",
        "############################\n",
        "plt.title('Line chart comparison on Math and Reading score of 10 students')\n",
        "plt.ylabel('Score')\n",
        "plt.xlabel('Individual student')"
      ],
      "execution_count": null,
      "outputs": [
        {
          "output_type": "execute_result",
          "data": {
            "text/plain": [
              "Text(0.5, 0, 'Individual student')"
            ]
          },
          "metadata": {},
          "execution_count": 11
        },
        {
          "output_type": "display_data",
          "data": {
            "image/png": "[encoded data removed]",
            "text/plain": [
              "<Figure size 720x432 with 1 Axes>"
            ]
          },
          "metadata": {
            "needs_background": "light"
          }
        }
      ]
    },
    {
      "cell_type": "markdown",
      "metadata": {
        "id": "clyAbU7617Kf"
      },
      "source": [
        "# TO DO 5: หาค่ามัธยฐานและค่าเฉลี่ยของแต่ละวิชา และนำไปแสดงผลบนกราฟแท่งแบบ Multiple plot \n",
        "\n",
        "<p> ภาพตัวอย่าง</p>\n",
        "\n",
        "![image.png](data:image/png;base64,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)"
      ]
    },
    {
      "cell_type": "code",
      "metadata": {
        "id": "jC0ioc8d17Kg"
      },
      "source": [
        "#Write code below please.\n",
        "mean_math = 0\n",
        "mean_writing = 0\n",
        "mean_reading = 0\n",
        "\n",
        "median_math = 0\n",
        "median_reading = 0\n",
        "median_writting = 0\n"
      ],
      "execution_count": null,
      "outputs": []
    },
    {
      "cell_type": "code",
      "metadata": {
        "id": "Cbi55F1L17Kn"
      },
      "source": [
        "#Plot multiple bar graph\n",
        "#Write code below please.\n"
      ],
      "execution_count": null,
      "outputs": []
    }
  ]
}