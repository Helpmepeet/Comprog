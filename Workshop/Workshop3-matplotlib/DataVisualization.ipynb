{
  "nbformat": 4,
  "nbformat_minor": 0,
  "metadata": {
    "kernelspec": {
      "display_name": "Python 3",
      "language": "python",
      "name": "python3"
    },
    "language_info": {
      "codemirror_mode": {
        "name": "ipython",
        "version": 3
      },
      "file_extension": ".py",
      "mimetype": "text/x-python",
      "name": "python",
      "nbconvert_exporter": "python",
      "pygments_lexer": "ipython3",
      "version": "3.5.3"
    },
    "colab": {
      "provenance": [],
      "include_colab_link": true
    }
  },
  "cells": [
    {
      "cell_type": "markdown",
      "metadata": {
        "id": "view-in-github",
        "colab_type": "text"
      },
      "source": [
        "<a href=\"https://colab.research.google.com/github/Helpmepeet/Comprog/blob/main/Workshop/Workshop3-matplotlib/DataVisualization.ipynb\" target=\"_parent\"><img src=\"https://colab.research.google.com/assets/colab-badge.svg\" alt=\"Open In Colab\"/></a>"
      ]
    },
    {
      "cell_type": "code",
      "metadata": {
        "id": "2bbT2mA1uU85",
        "colab": {
          "base_uri": "https://localhost:8080/"
        },
        "outputId": "de0e14cc-0aec-4722-c04f-1149c3d4beb3"
      },
      "source": [
        "!wget https://raw.githubusercontent.com/Mixelon-tera/Workshop3_DataViz/master/exams_100.csv"
      ],
      "execution_count": 4,
      "outputs": [
        {
          "output_type": "stream",
          "name": "stdout",
          "text": [
            "--2022-12-25 10:05:09--  https://raw.githubusercontent.com/Mixelon-tera/Workshop3_DataViz/master/exams_100.csv\n",
            "Resolving raw.githubusercontent.com (raw.githubusercontent.com)... 185.199.108.133, 185.199.109.133, 185.199.110.133, ...\n",
            "Connecting to raw.githubusercontent.com (raw.githubusercontent.com)|185.199.108.133|:443... connected.\n",
            "HTTP request sent, awaiting response... 200 OK\n",
            "Length: 7253 (7.1K) [text/plain]\n",
            "Saving to: ‘exams_100.csv’\n",
            "\n",
            "\rexams_100.csv         0%[                    ]       0  --.-KB/s               \rexams_100.csv       100%[===================>]   7.08K  --.-KB/s    in 0s      \n",
            "\n",
            "2022-12-25 10:05:09 (53.7 MB/s) - ‘exams_100.csv’ saved [7253/7253]\n",
            "\n"
          ]
        }
      ]
    },
    {
      "cell_type": "code",
      "metadata": {
        "id": "TUusmzVf17J3",
        "colab": {
          "base_uri": "https://localhost:8080/"
        },
        "outputId": "a9ffd855-1180-4ec2-93a3-cd9df4fbeced"
      },
      "source": [
        "import platform\n",
        "#ตรวจสอบเวอร์ชันไพธอน\n",
        "print(\"Python version: {}\".format(platform.sys.version))"
      ],
      "execution_count": 5,
      "outputs": [
        {
          "output_type": "stream",
          "name": "stdout",
          "text": [
            "Python version: 3.8.16 (default, Dec  7 2022, 01:12:13) \n",
            "[GCC 7.5.0]\n"
          ]
        }
      ]
    },
    {
      "cell_type": "code",
      "metadata": {
        "id": "Kg0YcZL017J-",
        "colab": {
          "base_uri": "https://localhost:8080/"
        },
        "outputId": "546b43f5-4dbe-43f7-9d86-15b825ba37b1"
      },
      "source": [
        "import os\n",
        "''' เราจะเช็ค path ของไฟล์ excel ชนิด (.csv) ก่อนว่ามีไฟล์ชนิดนี้อยู่ใน folder เดียวกันกับไฟล์ jupyter ไหม\n",
        "ด้วยการเรียกใช้ module ของไพธอน คือ os.path.exists() \n",
        "'''\n",
        "file_name = 'exams_100.csv'\n",
        "if os.path.exists(file_name):\n",
        "    print('Found that file')\n",
        "else:\n",
        "    print('Please check csv file.')\n"
      ],
      "execution_count": 6,
      "outputs": [
        {
          "output_type": "stream",
          "name": "stdout",
          "text": [
            "Found that file\n"
          ]
        }
      ]
    },
    {
      "cell_type": "code",
      "metadata": {
        "id": "5pohyEgL17KA"
      },
      "source": [
        "import pandas as pd\n",
        "import matplotlib.pyplot as plt"
      ],
      "execution_count": 7,
      "outputs": []
    },
    {
      "cell_type": "code",
      "metadata": {
        "scrolled": false,
        "id": "UNpCY7FY17KD",
        "colab": {
          "base_uri": "https://localhost:8080/"
        },
        "outputId": "762ea039-02a3-4f8d-c10b-b591d381acee"
      },
      "source": [
        "#อ่านไฟล์ csv แล้วเอาค่ามาเก็บไว้ในตัวแปรหนึ่งที่ชื่อว่า 'csv_data'\n",
        "csv_data = pd.read_csv(file_name)\n",
        "print(csv_data.head())"
      ],
      "execution_count": 8,
      "outputs": [
        {
          "output_type": "stream",
          "name": "stdout",
          "text": [
            "   gender race/ethnicity parental level of education     lunch  \\\n",
            "0  female        group C            some high school  standard   \n",
            "1  female        group D                 high school  standard   \n",
            "2  female        group E                 high school  standard   \n",
            "3    male        group C                 high school  standard   \n",
            "4    male        group C          associate's degree  standard   \n",
            "\n",
            "  test preparation course  math score  reading score  writing score  \n",
            "0                    none          67             65             69  \n",
            "1               completed          66             75             78  \n",
            "2                    none          76             74             75  \n",
            "3               completed          70             76             67  \n",
            "4                    none          56             49             49  \n"
          ]
        }
      ]
    },
    {
      "cell_type": "markdown",
      "metadata": {
        "id": "ByvLSRHx17KH"
      },
      "source": [
        "# TO DO 1 :  แสดงผลข้อมูลเป็นจำนวน 50 แถว"
      ]
    },
    {
      "cell_type": "markdown",
      "metadata": {
        "id": "m6Akantk17KH"
      },
      "source": [
        "<img src=\"https://github.com/thcktw/python-com-resource/raw/master/lab4datavis/result_of_todo1.png\">"
      ]
    },
    {
      "cell_type": "code",
      "metadata": {
        "id": "GLZFls4W17KI",
        "colab": {
          "base_uri": "https://localhost:8080/"
        },
        "outputId": "6ff0e113-6d0b-4353-a8b9-779d98892c8f"
      },
      "source": [
        "#Write code below please.\n",
        "print(csv_data.head(50))"
      ],
      "execution_count": 9,
      "outputs": [
        {
          "output_type": "stream",
          "name": "stdout",
          "text": [
            "    gender race/ethnicity parental level of education         lunch  \\\n",
            "0   female        group C            some high school      standard   \n",
            "1   female        group D                 high school      standard   \n",
            "2   female        group E                 high school      standard   \n",
            "3     male        group C                 high school      standard   \n",
            "4     male        group C          associate's degree      standard   \n",
            "5   female        group D          associate's degree      standard   \n",
            "6     male        group D                 high school      standard   \n",
            "7   female        group E            some high school  free/reduced   \n",
            "8   female        group D          associate's degree  free/reduced   \n",
            "9   female        group D                some college      standard   \n",
            "10  female        group D            some high school  free/reduced   \n",
            "11  female        group B                 high school  free/reduced   \n",
            "12    male        group C                some college      standard   \n",
            "13  female        group B                some college      standard   \n",
            "14    male        group C                 high school      standard   \n",
            "15  female        group B                some college      standard   \n",
            "16  female        group E                some college  free/reduced   \n",
            "17    male        group E                some college      standard   \n",
            "18  female        group C          associate's degree      standard   \n",
            "19  female        group E                 high school      standard   \n",
            "20    male        group B            some high school  free/reduced   \n",
            "21    male        group E             master's degree  free/reduced   \n",
            "22    male        group C            some high school      standard   \n",
            "23    male        group C            some high school      standard   \n",
            "24    male        group E                 high school      standard   \n",
            "25    male        group D             master's degree      standard   \n",
            "26    male        group D          associate's degree      standard   \n",
            "27  female        group D            some high school  free/reduced   \n",
            "28  female        group E                some college  free/reduced   \n",
            "29    male        group D            some high school  free/reduced   \n",
            "30  female        group E           bachelor's degree  free/reduced   \n",
            "31    male        group B           bachelor's degree      standard   \n",
            "32  female        group C          associate's degree      standard   \n",
            "33    male        group D                 high school      standard   \n",
            "34  female        group C            some high school  free/reduced   \n",
            "35    male        group D                 high school      standard   \n",
            "36    male        group B          associate's degree      standard   \n",
            "37  female        group C          associate's degree      standard   \n",
            "38    male        group C          associate's degree  free/reduced   \n",
            "39    male        group B                some college      standard   \n",
            "40    male        group C           bachelor's degree      standard   \n",
            "41    male        group A            some high school      standard   \n",
            "42    male        group D                 high school      standard   \n",
            "43  female        group C             master's degree  free/reduced   \n",
            "44    male        group A          associate's degree      standard   \n",
            "45    male        group C            some high school  free/reduced   \n",
            "46  female        group D                 high school      standard   \n",
            "47    male        group A             master's degree      standard   \n",
            "48    male        group C          associate's degree  free/reduced   \n",
            "49  female        group C          associate's degree      standard   \n",
            "\n",
            "   test preparation course  math score  reading score  writing score  \n",
            "0                     none          67             65             69  \n",
            "1                completed          66             75             78  \n",
            "2                     none          76             74             75  \n",
            "3                completed          70             76             67  \n",
            "4                     none          56             49             49  \n",
            "5                completed          80             91             89  \n",
            "6                     none          53             55             55  \n",
            "7                completed          79             88             84  \n",
            "8                completed          69             70             73  \n",
            "9                     none          55             66             74  \n",
            "10                    none          51             46             54  \n",
            "11                    none          62             75             66  \n",
            "12               completed          66             53             51  \n",
            "13                    none          62             75             72  \n",
            "14                    none          71             71             61  \n",
            "15                    none          74             82             75  \n",
            "16                    none          65             57             62  \n",
            "17               completed          79             77             76  \n",
            "18                    none          79             82             80  \n",
            "19                    none          96             89             88  \n",
            "20                    none          53             52             48  \n",
            "21               completed          66             77             73  \n",
            "22               completed          64             59             54  \n",
            "23                    none          77             75             66  \n",
            "24                    none          95             68             65  \n",
            "25               completed          75             72             73  \n",
            "26                    none          79             59             67  \n",
            "27                    none          54             60             57  \n",
            "28                    none          59             72             67  \n",
            "29                    none          54             52             45  \n",
            "30                    none          79             91             88  \n",
            "31               completed          79             69             77  \n",
            "32                    none          65             80             75  \n",
            "33               completed          65             62             50  \n",
            "34               completed          64             74             78  \n",
            "35                    none          63             47             48  \n",
            "36                    none          78             74             71  \n",
            "37                    none          63             81             71  \n",
            "38               completed          55             49             57  \n",
            "39                    none          55             51             51  \n",
            "40                    none          53             46             43  \n",
            "41                    none          65             67             61  \n",
            "42               completed          78             83             81  \n",
            "43                    none          70             71             77  \n",
            "44                    none          84             86             83  \n",
            "45                    none          44             53             47  \n",
            "46               completed          64             78             81  \n",
            "47               completed          69             69             70  \n",
            "48                    none          64             57             56  \n",
            "49                    none          52             67             63  \n"
          ]
        }
      ]
    },
    {
      "cell_type": "markdown",
      "metadata": {
        "id": "PbetAquw17KL"
      },
      "source": [
        "# TO DO 2 : นับจำนวนนักเรียนเพศชาย-หญิงจากไฟล์ csv แล้วแสดงผลทางหน้าจอ"
      ]
    },
    {
      "cell_type": "markdown",
      "metadata": {
        "id": "FzxnYBT717KM"
      },
      "source": [
        "<img src=\"https://github.com/thcktw/python-com-resource/raw/master/lab4datavis/result_of_todo2.png\">"
      ]
    },
    {
      "cell_type": "code",
      "metadata": {
        "id": "8fthMTLv17KM",
        "colab": {
          "base_uri": "https://localhost:8080/"
        },
        "outputId": "af3c5a71-b1e6-430a-c5d8-95c8841fc482"
      },
      "source": [
        "#Write code below please.\n",
        "gender = csv_data['gender']\n",
        "n_male = 0\n",
        "n_female = 0\n",
        "for line in gender :\n",
        "  if line == \"male\" :\n",
        "    n_male += 1\n",
        "  else :\n",
        "    n_female += 1\n",
        "\n",
        "print(\"Amount of student: \"+str(n_male+n_female))\n",
        "print(\"Amount of male student: \"+str(n_male))\n",
        "print(\"Amount of female student: \"+str(n_female))\n"
      ],
      "execution_count": 10,
      "outputs": [
        {
          "output_type": "stream",
          "name": "stdout",
          "text": [
            "Amount of student: 100\n",
            "Amount of male student: 51\n",
            "Amount of female student: 49\n"
          ]
        }
      ]
    },
    {
      "cell_type": "markdown",
      "metadata": {
        "id": "13y9Ir0D17KP"
      },
      "source": [
        "# TO DO 3 : สร้างกราฟแท่งเปรียบเทียบจำนวนนักเรียนเพศชาย-หญิง\n",
        "\n",
        "<p> ภาพตัวอย่าง</p>\n",
        "<img src=\"https://github.com/thcktw/python-com-resource/raw/master/lab4datavis/result_of_todo3.png\">"
      ]
    },
    {
      "cell_type": "code",
      "metadata": {
        "id": "XgG5pcBw17KP",
        "colab": {
          "base_uri": "https://localhost:8080/",
          "height": 313
        },
        "outputId": "40f51850-2997-4d5d-bbfb-270a86353bf8"
      },
      "source": [
        "#Write code below please.\n",
        "x = ['male','female']\n",
        "y = [n_male,n_female]\n",
        "plt.xlabel(\"sex\")\n",
        "plt.ylabel(\"Amount\")\n",
        "plt.title(\"Comparison of student genders\")\n",
        "plt.bar(x,y,color=[\"orange\",\"pink\"])"
      ],
      "execution_count": 11,
      "outputs": [
        {
          "output_type": "execute_result",
          "data": {
            "text/plain": [
              "<BarContainer object of 2 artists>"
            ]
          },
          "metadata": {},
          "execution_count": 11
        },
        {
          "output_type": "display_data",
          "data": {
            "text/plain": [
              "<Figure size 432x288 with 1 Axes>"
            ],
            "image/png": "[encoded data removed]"
          },
          "metadata": {
            "needs_background": "light"
          }
        }
      ]
    },
    {
      "cell_type": "markdown",
      "metadata": {
        "id": "LRrcux0X17KR"
      },
      "source": [
        "# TO DO 4 : เรียงลำดับคะแนนวิชาคณิตศาสตร์และวิชาการอ่านของนักเรียนจากน้อยไปหามาก และแสดงผลคะแนนทั้ง 2 วิชาในรูปแบบกราฟเส้น โดยจำนวนนักเรียนที่ต้องการแสดงบนกราฟเส้นคือ 10 คนแรกที่มีคะแนนน้อยที่สุด\n",
        "<p> ภาพตัวอย่าง</p>\n",
        "<img src=\"https://github.com/thcktw/python-com-resource/raw/master/lab4datavis/result_of_todo4.png\">\n",
        "\n",
        "## ตกแต่งสีสันของกราฟได้ตามใจชอบ :)"
      ]
    },
    {
      "cell_type": "code",
      "metadata": {
        "id": "4IaZf_gD17KS",
        "colab": {
          "base_uri": "https://localhost:8080/"
        },
        "outputId": "4988564a-7db2-441e-ad22-2d9ef9aa6df5"
      },
      "source": [
        "# Create index of 100 students and save it in a list \n",
        "index_student = [idx+1 for idx in range(len(gender))]\n",
        "#print(index_student) #นักเรียน 100 คน\n",
        "\n",
        "#ดึงค่าคะแนนของนักเรียนทั้ง 3 วิชามาจากDataFrameของPandas\n",
        "math_score = csv_data['math score']\n",
        "reading_score = csv_data['reading score']\n",
        "writing_score = csv_data['writing score']\n"
      ],
      "execution_count": 12,
      "outputs": [
        {
          "output_type": "stream",
          "name": "stdout",
          "text": [
            "[41, 42, 43, 44, 45, 48, 49, 51, 52, 53, 53, 53, 53, 53, 54, 54, 54, 55, 55, 55, 56, 56, 58, 58, 59, 60, 61, 61, 62, 62, 62, 63, 63, 63, 64, 64, 64, 64, 64, 64, 65, 65, 65, 65, 65, 65, 66, 66, 66, 67, 67, 67, 68, 68, 68, 68, 68, 68, 69, 69, 69, 69, 70, 70, 71, 74, 74, 75, 76, 76, 76, 77, 77, 77, 78, 78, 79, 79, 79, 79, 79, 79, 79, 79, 80, 80, 84, 84, 84, 85, 87, 87, 88, 92, 92, 92, 93, 95, 96, 98]\n"
          ]
        }
      ]
    },
    {
      "cell_type": "code",
      "metadata": {
        "id": "JS_kMN6s17KV",
        "colab": {
          "base_uri": "https://localhost:8080/"
        },
        "outputId": "79890942-d3c2-448e-f245-9e05e0185c00"
      },
      "source": [
        "#เรียงค่าคะแนนวิชาคณิตศาตร์ และวิชาการอ่านจากน้อยไปหามาก\n",
        "#วิชาคณิตศาสตร์ \n",
        "#Write code below please.\n",
        "math = sorted(math_score)[:10]\n",
        "#วิชาการอ่าน\n",
        "#Write code below please.\n",
        "write = sorted(reading_score)[:10]\n",
        "print(math)"
      ],
      "execution_count": 13,
      "outputs": [
        {
          "output_type": "stream",
          "name": "stdout",
          "text": [
            "[41, 42, 43, 44, 45, 48, 49, 51, 52, 53]\n"
          ]
        }
      ]
    },
    {
      "cell_type": "code",
      "metadata": {
        "id": "Jp10IWwB17KZ",
        "colab": {
          "base_uri": "https://localhost:8080/",
          "height": 422
        },
        "outputId": "c803449d-e8ab-415e-ce00-c99981d886ad"
      },
      "source": [
        "plt.figure(figsize=(10,6))\n",
        "# Write code below please. #\n",
        "student = [1,2,3,4,5,6,7,8,9,10]\n",
        "plt.plot(student,write,color=\"green\",label=\"write\")\n",
        "plt.plot(student,math,color=\"purple\",label=\"math\")\n",
        "plt.legend()\n",
        "############################\n",
        "plt.title('Line chart comparison on Math and Reading score of 10 students')\n",
        "plt.ylabel('Score')\n",
        "plt.xlabel('Individual student')"
      ],
      "execution_count": 14,
      "outputs": [
        {
          "output_type": "execute_result",
          "data": {
            "text/plain": [
              "Text(0.5, 0, 'Individual student')"
            ]
          },
          "metadata": {},
          "execution_count": 14
        },
        {
          "output_type": "display_data",
          "data": {
            "text/plain": [
              "<Figure size 720x432 with 1 Axes>"
            ],
            "image/png": "[encoded data removed]"
          },
          "metadata": {
            "needs_background": "light"
          }
        }
      ]
    },
    {
      "cell_type": "markdown",
      "metadata": {
        "id": "clyAbU7617Kf"
      },
      "source": [
        "# TO DO 5: หาค่ามัธยฐานและค่าเฉลี่ยของแต่ละวิชา และนำไปแสดงผลบนกราฟแท่งแบบ Multiple plot \n",
        "\n",
        "<p> ภาพตัวอย่าง</p>\n",
        "<img src=\"https://github.com/thcktw/python-com-resource/raw/master/lab4datavis/result_of_todo5_new.png\">"
      ]
    },
    {
      "cell_type": "code",
      "metadata": {
        "id": "jC0ioc8d17Kg"
      },
      "source": [
        "#Write code below please.\n",
        "import statistics as stat\n",
        "\n",
        "mean_math = stat.mean(math_score)\n",
        "mean_writing = stat.mean(writing_score)\n",
        "mean_reading = stat.mean(reading_score)\n",
        "\n",
        "median_math = stat.median(math_score)\n",
        "median_reading = stat.median(reading_score)\n",
        "median_writing = stat.median(writing_score)\n"
      ],
      "execution_count": 15,
      "outputs": []
    },
    {
      "cell_type": "code",
      "metadata": {
        "id": "Cbi55F1L17Kn",
        "colab": {
          "base_uri": "https://localhost:8080/",
          "height": 299
        },
        "outputId": "04cce62b-c784-4de2-c605-7d86d22523f4"
      },
      "source": [
        "#Plot multiple bar graph\n",
        "#Write code below please.\n",
        "mean = (mean_math,mean_reading,mean_reading)\n",
        "median = (median_math,median_reading,median_writing)\n",
        "N = 3\n",
        "width = 0.4\n",
        "idx_mean = [i for i in range(N)]\n",
        "idx_median = [i+width for i in range(N)]\n",
        "idx_num = [i+width /2 for i in range(N)]\n",
        "\n",
        "plt.bar(idx_mean,mean,width,label=\"MEAN\")\n",
        "plt.bar(idx_median,median,width,label=\"MEDIAN\")\n",
        "\n",
        "plt.ylabel(\"Scores\")\n",
        "plt.title(\"Scores by group and gender\")\n",
        "\n",
        "plt.xticks(idx_num,(\"Math\",\"Reading\",\"Writings \"))\n",
        "\n",
        "plt.legend(loc=\"best\")\n",
        "plt.show\n"
      ],
      "execution_count": 16,
      "outputs": [
        {
          "output_type": "execute_result",
          "data": {
            "text/plain": [
              "<function matplotlib.pyplot.show(*args, **kw)>"
            ]
          },
          "metadata": {},
          "execution_count": 16
        },
        {
          "output_type": "display_data",
          "data": {
            "text/plain": [
              "<Figure size 432x288 with 1 Axes>"
            ],
            "image/png": "[encoded data removed]"
          },
          "metadata": {
            "needs_background": "light"
          }
        }
      ]
    }
  ]
}